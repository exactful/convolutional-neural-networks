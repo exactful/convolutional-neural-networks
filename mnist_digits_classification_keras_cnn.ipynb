{
  "nbformat": 4,
  "nbformat_minor": 0,
  "metadata": {
    "colab": {
      "provenance": []
    },
    "kernelspec": {
      "name": "python3",
      "display_name": "Python 3"
    },
    "language_info": {
      "name": "python"
    }
  },
  "cells": [
    {
      "cell_type": "markdown",
      "source": [
        "**Convolutional Neural Network classification for handwritten digits**\n",
        "\n",
        "Image classification using a Keras CNN and the MNIST digits dataset"
      ],
      "metadata": {
        "id": "1JxqwZsivmFP"
      }
    },
    {
      "cell_type": "code",
      "execution_count": 1,
      "metadata": {
        "id": "6SXSLtQGk_Y9"
      },
      "outputs": [],
      "source": [
        "from sklearn.datasets import load_digits\n",
        "from sklearn.model_selection import train_test_split\n",
        "from sklearn.metrics import accuracy_score\n",
        "\n",
        "from keras.models import Sequential\n",
        "from keras.layers import Dense, Conv2D, Flatten\n",
        "from keras.utils import np_utils\n",
        "\n",
        "import matplotlib.pyplot as plt\n",
        "import numpy as np"
      ]
    },
    {
      "cell_type": "code",
      "source": [
        "# Load data\n",
        "digits = load_digits()\n",
        "\n",
        "X = digits.images # digits.data\n",
        "y = digits.target\n",
        "\n",
        "# Reshape image data to add single channel (greyscale)\n",
        "X = X.reshape(X.shape + (1,))\n",
        "\n",
        "# Normalise greyscale data\n",
        "X = X / 16.0\n",
        "\n",
        "# One-hot encode the output\n",
        "y = np_utils.to_categorical(digits.target, 10)"
      ],
      "metadata": {
        "id": "Tu296VoTlQsF"
      },
      "execution_count": 2,
      "outputs": []
    },
    {
      "cell_type": "code",
      "source": [
        "# Display examples\n",
        "cols, rows = 10, 1\n",
        "plt.subplots(figsize=(15, 5))\n",
        "\n",
        "for i in range(rows*cols):\n",
        "  ax = plt.subplot(rows, cols, i+1)\n",
        "  ax.set_axis_off()\n",
        "  ax.imshow(X[i].reshape(8, 8))\n",
        "  ax.set_title(f\"Number: {np.argmax(y[i])}\")\n",
        "\n",
        "plt.show()"
      ],
      "metadata": {
        "colab": {
          "base_uri": "https://localhost:8080/",
          "height": 118
        },
        "id": "kBDfWmuWZOud",
        "outputId": "61ad4ba7-9b11-4bd8-cea9-195fe71106a3"
      },
      "execution_count": 12,
      "outputs": [
        {
          "output_type": "display_data",
          "data": {
            "text/plain": [
              "<Figure size 1080x360 with 10 Axes>"
            ],
            "image/png": "[encoded data removed]"
          },
          "metadata": {
            "needs_background": "light"
          }
        }
      ]
    },
    {
      "cell_type": "code",
      "source": [
        "# Train (60%) | Validation (20%) | Test (20%)\n",
        "\n",
        "# Create train (inc validation) and test\n",
        "X_train, X_test, y_train, y_test = train_test_split(X, y, test_size=0.2, random_state=42)\n",
        "\n",
        "# Extract validation from train \n",
        "X_train, X_val, y_train, y_val = train_test_split(X_train, y_train, test_size=0.25, random_state=42)\n",
        "\n",
        "print(f\"Counts\\nTotal: {len(X)} Train: {len(X_train)} Validation: {len(X_val)} Test: {len(X_test)}\")"
      ],
      "metadata": {
        "colab": {
          "base_uri": "https://localhost:8080/"
        },
        "id": "ohg6UYsnlSmu",
        "outputId": "c141c307-0f82-41ae-b46d-4fe56103c016"
      },
      "execution_count": 5,
      "outputs": [
        {
          "output_type": "stream",
          "name": "stdout",
          "text": [
            "Counts\n",
            "Total: 1797 Train: 1077 Validation: 360 Test: 360\n"
          ]
        }
      ]
    },
    {
      "cell_type": "code",
      "source": [
        "# Define a simple model which could be used with X = digits.data\n",
        "\n",
        "#model = Sequential()\n",
        "#model.add(Dense(20, input_dim=64, activation='relu'))\n",
        "#model.add(Dense(8, activation='relu'))\n",
        "#model.add(Dense(15, activation='relu'))\n",
        "#model.add(Dense(10, activation='sigmoid'))\n",
        "\n",
        "# Compile the model\n",
        "#model.compile(loss='categorical_crossentropy', optimizer='adam', metrics=['accuracy'])"
      ],
      "metadata": {
        "id": "OQ55SoXMlnPg"
      },
      "execution_count": null,
      "outputs": []
    },
    {
      "cell_type": "code",
      "source": [
        "# Define a convolutional model\n",
        "model = Sequential()\n",
        "\n",
        "model.add(Conv2D(64, kernel_size=3, activation=\"relu\", input_shape=(8,8,1)))\n",
        "model.add(Conv2D(32, kernel_size=3, activation=\"relu\"))\n",
        "model.add(Flatten())\n",
        "model.add(Dense(10, activation=\"softmax\"))\n",
        "\n",
        "# Compile the model\n",
        "model.compile(loss='categorical_crossentropy', optimizer='adam', metrics=['accuracy'])"
      ],
      "metadata": {
        "id": "ulPd1vlW_CJC"
      },
      "execution_count": 6,
      "outputs": []
    },
    {
      "cell_type": "code",
      "source": [
        "# Fit model\n",
        "model.fit(X_train, y_train, validation_data=(X_val, y_val), epochs=50, batch_size=100, verbose=False)"
      ],
      "metadata": {
        "colab": {
          "base_uri": "https://localhost:8080/"
        },
        "id": "ApBB5Y27pQ38",
        "outputId": "cc812d4a-3141-4933-f374-b130f345c915"
      },
      "execution_count": 7,
      "outputs": [
        {
          "output_type": "execute_result",
          "data": {
            "text/plain": [
              "<keras.callbacks.History at 0x7f7ac6832ed0>"
            ]
          },
          "metadata": {},
          "execution_count": 7
        }
      ]
    },
    {
      "cell_type": "code",
      "source": [
        "# Evaluate model\n",
        "_, accuracy = model.evaluate(X_test, y_test)\n",
        "print('Accuracy: %.2f' % (accuracy * 100))"
      ],
      "metadata": {
        "colab": {
          "base_uri": "https://localhost:8080/"
        },
        "id": "PHUEdZlkqrOt",
        "outputId": "832bb9e3-5fd1-4af7-cfd8-8b35489b3a59"
      },
      "execution_count": 8,
      "outputs": [
        {
          "output_type": "stream",
          "name": "stdout",
          "text": [
            "12/12 [==============================] - 0s 4ms/step - loss: 0.0894 - accuracy: 0.9750\n",
            "Accuracy: 97.50\n"
          ]
        }
      ]
    },
    {
      "cell_type": "code",
      "source": [
        "# Get predictsion on test data\n",
        "predictions = model.predict(X_test)"
      ],
      "metadata": {
        "id": "H3ET_Tmzq35J",
        "colab": {
          "base_uri": "https://localhost:8080/"
        },
        "outputId": "5989ab1a-7157-4107-f70e-7ba198ec50ae"
      },
      "execution_count": 9,
      "outputs": [
        {
          "output_type": "stream",
          "name": "stdout",
          "text": [
            "12/12 [==============================] - 0s 4ms/step\n"
          ]
        }
      ]
    },
    {
      "cell_type": "code",
      "source": [
        "# Display examples with predictions\n",
        "cols, rows = 5, 4\n",
        "plt.subplots(figsize=(18, 10))\n",
        "\n",
        "for i in range(rows*cols):\n",
        "  ax = plt.subplot(rows, cols, i+1)\n",
        "  ax.set_axis_off()\n",
        "  ax.imshow(X_test[i].reshape(8, 8))\n",
        "  ax.set_title(f\"Number: {np.argmax(y_test[i])} | Prediction: {np.argmax(predictions[i])}\")\n",
        "\n",
        "plt.show()"
      ],
      "metadata": {
        "colab": {
          "base_uri": "https://localhost:8080/",
          "height": 591
        },
        "id": "E89RknZkq13d",
        "outputId": "ab3c829e-b22b-4fcc-c9fd-f78f829eb1f1"
      },
      "execution_count": 14,
      "outputs": [
        {
          "output_type": "display_data",
          "data": {
            "text/plain": [
              "<Figure size 1296x720 with 20 Axes>"
            ],
            "image/png": "[encoded data removed]"
          },
          "metadata": {
            "needs_background": "light"
          }
        }
      ]
    }
  ]
}